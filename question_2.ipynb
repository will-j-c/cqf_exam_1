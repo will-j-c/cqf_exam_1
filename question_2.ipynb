{
 "cells": [
  {
   "attachments": {},
   "cell_type": "markdown",
   "metadata": {},
   "source": [
    "### Optimal Portfolio Allocation\n",
    "\n",
    "An investment universe of the following risky assets with a dependence structure (correlation) is given:\n",
    "\n",
    "\\begin{equation*}\n",
    "\n",
    "\\begin{matrix}\n",
    "\\textbf{Asset} & \\boldsymbol\\mu & \\boldsymbol\\sigma & \\boldsymbol\\omega\\\\\n",
    "A & 0.02 & 0.05 & \\omega_1\\\\\n",
    "B & 0.07 & 0.12 & \\omega_2\\\\\n",
    "C & 0.15 & 0.17 & \\omega_3\\\\\n",
    "D & 0.20 & 0.25 & \\omega_4\n",
    "\\end{matrix}\n",
    "\\qquad\n",
    "\\qquad\n",
    "R =\n",
    "\\begin{pmatrix}\n",
    "1 & 0.3 & 0.3 & 0.3\\\\\n",
    "0.3 & 1 & 0.6 & 0.6\\\\\n",
    "0.3 & 0.6 & 1 & 0.6\\\\\n",
    "0.3 & 0.6 & 0.6 & 1\n",
    "\\end{pmatrix}\n",
    "\n",
    "\\end{equation*}"
   ]
  },
  {
   "attachments": {},
   "cell_type": "markdown",
   "metadata": {},
   "source": [
    "**Question 2.** Consider optimisation for a tangency portfolio (maximum Sharpe Ratio). \n",
    "\n",
    "- Formulate optimisation expression. \n",
    "- Formulate Lagrangian function and give its partial derivatives only. \n",
    "- For the range of tangency portfolios given by $r_f = 50bps, 100bps, 150bps, 175bps$ optimal compute allocations (ready formula) and $\\sigma_\\Pi$ . <ins>Present results in a table</ins>. \n",
    "    - Plot the efficient frontier in the presence of a risk-free asset for $r_f = 100bps, 175bps$"
   ]
  },
  {
   "attachments": {},
   "cell_type": "markdown",
   "metadata": {},
   "source": [
    "### Answers and code"
   ]
  }
 ],
 "metadata": {
  "kernelspec": {
   "display_name": "exam_1-4V1DarRb",
   "language": "python",
   "name": "python3"
  },
  "language_info": {
   "name": "python",
   "version": "3.10.6"
  },
  "orig_nbformat": 4,
  "vscode": {
   "interpreter": {
    "hash": "c9fc2fce8b102d408eb5745704d24ab69e59282980ed507248473b6ba19f1f5d"
   }
  }
 },
 "nbformat": 4,
 "nbformat_minor": 2
}
