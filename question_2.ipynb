{
 "cells": [
  {
   "attachments": {},
   "cell_type": "markdown",
   "metadata": {},
   "source": [
    "### Optimal Portfolio Allocation\n",
    "\n",
    "An investment universe of the following risky assets with a dependence structure (correlation) is given:\n",
    "\n",
    "\\begin{equation*}\n",
    "\n",
    "\\begin{matrix}\n",
    "\\textbf{Asset} & \\boldsymbol\\mu & \\boldsymbol\\sigma & \\boldsymbol\\omega\\\\\n",
    "A & 0.02 & 0.05 & \\omega_1\\\\\n",
    "B & 0.07 & 0.12 & \\omega_2\\\\\n",
    "C & 0.15 & 0.17 & \\omega_3\\\\\n",
    "D & 0.20 & 0.25 & \\omega_4\n",
    "\\end{matrix}\n",
    "\\qquad\n",
    "\\qquad\n",
    "R =\n",
    "\\begin{pmatrix}\n",
    "1 & 0.3 & 0.3 & 0.3\\\\\n",
    "0.3 & 1 & 0.6 & 0.6\\\\\n",
    "0.3 & 0.6 & 1 & 0.6\\\\\n",
    "0.3 & 0.6 & 0.6 & 1\n",
    "\\end{pmatrix}\n",
    "\n",
    "\\end{equation*}"
   ]
  },
  {
   "attachments": {},
   "cell_type": "markdown",
   "metadata": {},
   "source": [
    "**Question 2.** Consider optimisation for a tangency portfolio (maximum Sharpe Ratio). \n",
    "\n",
    "- Formulate optimisation expression. \n",
    "- Formulate Lagrangian function and give its partial derivatives only. \n",
    "- For the range of tangency portfolios given by $r_f = 50bps, 100bps, 150bps, 175bps$ optimal compute allocations (ready formula) and $\\sigma_\\Pi$ . <ins>Present results in a table</ins>. \n",
    "    - Plot the efficient frontier in the presence of a risk-free asset for $r_f = 100bps, 175bps$"
   ]
  },
  {
   "attachments": {},
   "cell_type": "markdown",
   "metadata": {},
   "source": [
    "### Answers and code"
   ]
  },
  {
   "attachments": {},
   "cell_type": "markdown",
   "metadata": {},
   "source": [
    "The tangency portfolio is invested wholly in risky assets and that maximises the sharpe ratio.\n",
    "\n",
    "\\begin{equation*}\n",
    "\\underset{\\boldsymbol\\omega}{\\arg\\max} \\quad \\frac{\\mu - r_f}{\\sigma} = \\frac{\\omega' \\mu - r_f}{(\\omega' \\Sigma \\omega)^{\\frac{1}{2}}}\n",
    "\\qquad\n",
    "s.t.\n",
    "\\quad\n",
    "\\omega'1 = 1\n",
    "\\end{equation*}\n",
    "\n",
    "Form the Langrange function with two multiplier $\\lambda$ for a given vector of weights $w$\n",
    "\\begin{equation*}\n",
    "L(w, \\lambda) = (w' \\mu - r_f)(w' \\Sigma w)^{-\\frac{1}{2}} + \\lambda(1 - w'1)\n",
    "\\end{equation*}\n",
    "\n",
    "##### Derivatives\n",
    "\n",
    "Using a combination of the chain and product rules to obtain the first order derivative\n",
    "\n",
    "$$\n",
    "\\frac{\\partial L}{\\partial w} = \\mu (w' \\Sigma w)^{-\\frac{1}{2}} - \\frac{1}{2}(w' \\mu - r_f)(w' \\Sigma w)^{-\\frac{3}{2}}2 \\Sigma w + \\lambda(-1)\n",
    "$$\n",
    "simplifying \n",
    "$$\n",
    "\\frac{\\partial L}{\\partial w} = \\mu (w' \\Sigma w)^{-\\frac{1}{2}} - (w' \\mu - r_f)(w' \\Sigma w)^{-\\frac{3}{2}} \\Sigma w - \\lambda\n",
    "$$\n",
    "\n",
    "and the second order derivative\n",
    "\n",
    "$$\n",
    "\\frac{\\partial^2 L}{\\partial w^2} = -\\frac{1}{2}\\mu (w' \\Sigma w)^{-\\frac{5}{2}}  2\\Sigma w - -\\frac{3}{2} (w'\\Sigma w)^{-frac{5}{2}} 2 \\Sigma w \\Sigma w + (w' \\Sigma w)^{-\\frac{3}{2}} \\Sigma\n",
    "$$\n",
    "\n",
    "simplifying\n",
    "\n",
    "$$\n",
    "\\frac{\\partial^2 L}{\\partial w^2} = -\\mu (w' \\Sigma w)^{-\\frac{5}{2}}  \\Sigma w + 3 (w'\\Sigma w)^{-\\frac{5}{2}}  \\Sigma w \\Sigma w - (w' \\Sigma w)^{-\\frac{3}{2}} \\Sigma\n",
    "$$"
   ]
  },
  {
   "attachments": {},
   "cell_type": "markdown",
   "metadata": {},
   "source": [
    "The ready formula to calculate the optimal weights of the tangency portfolio is given by\n",
    "\n",
    "$$\n",
    "w_t = \\frac{\\Sigma^{-1} (\\mu - r_f1)}{B - Ar_f}\n",
    "$$\n",
    "\n",
    "where A and B are scalars as previously defined in question 1\n",
    "\n",
    "\\begin{equation*}\n",
    "A = 1\\Sigma^{-1} 1'\n",
    "\\end{equation*}\n",
    "\n",
    "\\begin{equation*}\n",
    "B = \\mu' \\Sigma^{-1} 1 = 1' \\Sigma^{-1} \\mu\n",
    "\\end{equation*}"
   ]
  },
  {
   "cell_type": "code",
   "execution_count": 9,
   "metadata": {},
   "outputs": [],
   "source": [
    "# Import the relevant packages\n",
    "# Import numpy\n",
    "import plotly.express as px\n",
    "import numpy as np\n",
    "from numpy import *\n",
    "from numpy.linalg import multi_dot, inv\n",
    "\n",
    "# Import pandas\n",
    "import pandas as pd\n",
    "\n",
    "# Import plotly express\n",
    "px.defaults.template = 'ggplot2'\n",
    "px.defaults.width, px.defaults.height = 650, 450\n",
    "import plotly.io as pio\n",
    "pio.renderers.default='notebook'"
   ]
  },
  {
   "cell_type": "code",
   "execution_count": 10,
   "metadata": {},
   "outputs": [],
   "source": [
    "# Set the risk free rates\n",
    "r = [0.005, 0.01, 0.015, 0.0175]\n",
    "\n",
    "# Set the matrices for mu and sigma and 1\n",
    "mu = np.array([0.02, 0.07, 0.15, 0.2]).reshape((4, 1))\n",
    "sigma = np.array([0.05, 0.12, 0.17, 0.25]).reshape((4, 1))\n",
    "R = np.array([[1, 0.3, 0.3, 0.3], [0.3, 1, 0.6, 0.6], [\n",
    "             0.3, 0.6, 1, 0.6], [0.3, 0.6, 0.6, 1]]).reshape(4, 4)\n",
    "one = np.ones((4,1))\n",
    "\n",
    "# Compute the covariance matrix usings SRS where S = the diagonal standard deviation matrix\n",
    "S = np.diag(sigma.flatten())\n",
    "covariance_matrix = multi_dot([S, R, S])\n",
    "\n",
    "# Computer the inverse covariance matrix\n",
    "inverse_covariance_matrix = inv(covariance_matrix)\n",
    "\n",
    "# Compute A and B\n",
    "A = multi_dot((one.T,inverse_covariance_matrix,one))\n",
    "B = multi_dot((one.T,inverse_covariance_matrix,mu))"
   ]
  },
  {
   "cell_type": "code",
   "execution_count": 14,
   "metadata": {},
   "outputs": [
    {
     "name": "stdout",
     "output_type": "stream",
     "text": [
      "[[ 6.83937824 -0.38860104 -0.27430661 -0.1865285 ]\n",
      " [-1.68393782  8.30274899 -2.10492228 -1.43134715]\n",
      " [-2.6516306  -4.69559585  9.22871434 -2.25388601]\n",
      " [-2.42487047 -4.29404145 -3.03108808  5.7388601 ]]\n",
      "[[ 4.55958549 -0.25906736 -0.18287108 -0.12435233]\n",
      " [-1.55440415  7.66407599 -1.94300518 -1.32124352]\n",
      " [-2.56019506 -4.53367876  8.91048282 -2.1761658 ]\n",
      " [-2.3626943  -4.18393782 -2.95336788  5.59170984]]\n",
      "[[ 2.27979275 -0.12953368 -0.09143554 -0.06217617]\n",
      " [-1.42487047  7.02540299 -1.78108808 -1.2111399 ]\n",
      " [-2.46875952 -4.37176166  8.59225129 -2.0984456 ]\n",
      " [-2.30051813 -4.0738342  -2.87564767  5.44455959]]\n",
      "[[ 1.13989637 -0.06476684 -0.04571777 -0.03108808]\n",
      " [-1.36010363  6.70606649 -1.70012953 -1.15608808]\n",
      " [-2.42304176 -4.29080311  8.43313552 -2.05958549]\n",
      " [-2.26943005 -4.01878238 -2.83678756  5.37098446]]\n"
     ]
    }
   ],
   "source": [
    "# For each risk free rate, compute the optimal weights and add them to a dataframe\n",
    "df = pd.DataFrame([], columns=['rf', 'w_1', 'w_2', 'w_3', 'w_4', 'sigma_pi'])\n",
    "for rate in r:\n",
    "    weights = (inverse_covariance_matrix * (mu - rate*one))/(B - A*rate)\n",
    "    print((inverse_covariance_matrix * (mu - rate*one)))"
   ]
  }
 ],
 "metadata": {
  "kernelspec": {
   "display_name": "exam_1-4V1DarRb",
   "language": "python",
   "name": "python3"
  },
  "language_info": {
   "codemirror_mode": {
    "name": "ipython",
    "version": 3
   },
   "file_extension": ".py",
   "mimetype": "text/x-python",
   "name": "python",
   "nbconvert_exporter": "python",
   "pygments_lexer": "ipython3",
   "version": "3.10.6"
  },
  "orig_nbformat": 4,
  "vscode": {
   "interpreter": {
    "hash": "c9fc2fce8b102d408eb5745704d24ab69e59282980ed507248473b6ba19f1f5d"
   }
  }
 },
 "nbformat": 4,
 "nbformat_minor": 2
}
