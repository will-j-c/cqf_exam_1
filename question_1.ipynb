{
 "cells": [
  {
   "attachments": {},
   "cell_type": "markdown",
   "metadata": {},
   "source": [
    "### Optimal Portfolio Allocation\n",
    "\n",
    "\n",
    "\n",
    "An investment universe of the following risky assets with a dependence structure (correlation) is given:\n",
    "\n",
    "\\begin{equation*}\n",
    "\n",
    "\\begin{matrix} \n",
    "\\textbf{Asset} & \\boldsymbol\\mu & \\boldsymbol\\sigma & \\boldsymbol\\omega\\\\\n",
    "A & 0.02 & 0.05 & \\omega_1\\\\\n",
    "B & 0.07 & 0.12 & \\omega_2\\\\\n",
    "C & 0.15 & 0.17 & \\omega_3\\\\\n",
    "D & 0.20 & 0.25 & \\omega_4\n",
    "\\end{matrix}\n",
    "\\qquad\n",
    "\\qquad\n",
    "R =\n",
    "\\begin{pmatrix}\n",
    "1 & 0.3 & 0.3 & 0.3\\\\\n",
    "0.3 & 1 & 0.6 & 0.6\\\\\n",
    "0.3 & 0.6 & 1 & 0.6\\\\\n",
    "0.3 & 0.6 & 0.6 & 1\n",
    "\\end{pmatrix}\n",
    "\n",
    "\\end{equation*}"
   ]
  },
  {
   "attachments": {},
   "cell_type": "markdown",
   "metadata": {},
   "source": [
    "**Question 1.** Consider minimum variance portfolio with a target return m. \n",
    "\n",
    "\\begin{equation*}\n",
    "\\underset{\\boldsymbol\\omega}{\\arg\\min} \\frac{1}{2}\\omega'\\Sigma\\omega\n",
    "\\qquad\n",
    "s.t.\n",
    "\\quad\n",
    "\\omega'1 = 1\n",
    "\\quad\n",
    "\\mu_\\Pi = \\omega'\\mu = m\n",
    "\\end{equation*}\n",
    "\n",
    "\n",
    "- Formulate the Lagrangian and give its partial derivatives. \n",
    "- Write down the analytical solution for optimal allocations $ \\omega^* $ (derivation not required).\n",
    "- Inverse optimisation: generate above 700 random allocation sets (vectors) 4 × 1, those will not be optimal allocations. \n",
    "    - Standardise each set to satisfy $\\omega'1 = 1$, in fact you can generate 3 allocations and compute the 4th. \n",
    "    - For each vector of allocations compute $\\mu_\\Pi = \\omega'\\mu$ and $\\sigma_\\Pi = \\sqrt{\\omega'\\Sigma\\omega}$. \n",
    "    - Plot the cloud of points of $\\mu_\\Pi$ vertically on $\\sigma_\\Pi$ horizontally. <ins>Explain this plot</ins>. \n",
    "    \n",
    "Hint: Since we treat this as an inverse optimisation, there is no computation of $\\omega^*$ from the ready formula."
   ]
  },
  {
   "attachments": {},
   "cell_type": "markdown",
   "metadata": {},
   "source": [
    "### Answers and code"
   ]
  },
  {
   "attachments": {},
   "cell_type": "markdown",
   "metadata": {},
   "source": [
    "Form the Langrange function with two multipliers $\\lambda$ and $\\gamma$ for a given vector of weights $w$\n",
    "\\begin{equation*}\n",
    "L(w, \\lambda, \\gamma) = \\frac{1}{2}w'\\Sigma w + \\lambda(m - w'\\mu) + \\gamma(1 - w'1)\n",
    "\\end{equation*}\n",
    "\n",
    "where $(m - w'\\mu)$ is the return constraint and $(1 - w'1)$ is the budget constraint.\n"
   ]
  }
 ],
 "metadata": {
  "language_info": {
   "name": "python"
  },
  "orig_nbformat": 4
 },
 "nbformat": 4,
 "nbformat_minor": 2
}
