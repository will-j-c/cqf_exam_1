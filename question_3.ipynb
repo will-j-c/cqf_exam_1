{
 "cells": [
  {
   "attachments": {},
   "cell_type": "markdown",
   "metadata": {},
   "source": [
    "### Optimal Portfolio Allocation\n",
    "\n",
    "**Question 3.** Implement the multi-step binomial method as described in Binomial Method lecture with the following variables and parameters: stock $S = 100$, interest rate $r = 0.05$ (continuously compounded) for a call option with strike $E = 100$, and maturity $T = 1$. \n",
    "\n",
    "- Use any suitable parametrisation for up and down moves $uS$, $vS$. \n",
    "- Compute the option value for a range of volatilities $[0.05, . . . , 0.80]$ and plot the result. Set trees to have a minimum four time steps. \n",
    "- Now, compute and plot the value of one option, $\\sigma_imp = 0.2$ as you increase the number of time steps $NTS = 4, 5, . . . , 50$. \n",
    "\n",
    "Hint: This is a computational problem, best coded in Python. Plots must be presented."
   ]
  }
 ],
 "metadata": {
  "kernelspec": {
   "display_name": "exam_1-4V1DarRb",
   "language": "python",
   "name": "python3"
  },
  "language_info": {
   "codemirror_mode": {
    "name": "ipython",
    "version": 3
   },
   "file_extension": ".py",
   "mimetype": "text/x-python",
   "name": "python",
   "nbconvert_exporter": "python",
   "pygments_lexer": "ipython3",
   "version": "3.10.6"
  },
  "orig_nbformat": 4,
  "vscode": {
   "interpreter": {
    "hash": "c9fc2fce8b102d408eb5745704d24ab69e59282980ed507248473b6ba19f1f5d"
   }
  }
 },
 "nbformat": 4,
 "nbformat_minor": 2
}
