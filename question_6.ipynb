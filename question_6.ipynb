{
 "cells": [
  {
   "attachments": {},
   "cell_type": "markdown",
   "metadata": {},
   "source": [
    "### Optimal Portfolio Allocation\n",
    "\n",
    "**Question 6.** Re-implement backtesting using assumptions above (as necessary) and the EWMA variance forecast equation below. This is also known as RiskMetrics approach. \n",
    "\n",
    "The tutor will not reconfirm how to compute this model, but you can use the variance of your computed log-returns for the entire dataset to initialise the scheme. \n",
    "\n",
    "$$\n",
    "\\sigma_{t+1 | t} = \\lambda \\sigma_{t | t−1} + (1 − \\lambda) r^2_t \n",
    "$$\n",
    "\n",
    "with $\\lambda = 0.72$ value set to minimise out of sample forecasting error, and $r_t$ refers to a return. \n",
    "\n",
    "Provide the same deliverables (a), (b), and (c) as in the previous Question."
   ]
  },
  {
   "attachments": {},
   "cell_type": "markdown",
   "metadata": {},
   "source": [
    "### Answers and code"
   ]
  },
  {
   "cell_type": "code",
   "execution_count": null,
   "metadata": {},
   "outputs": [],
   "source": [
    "# Import modules\n",
    "import pandas as pd\n",
    "import numpy as np\n",
    "from scipy.stats import norm\n",
    "import plotly.express as px\n",
    "\n",
    "# Import plotly express\n",
    "px.defaults.template = 'ggplot2'\n",
    "px.defaults.width, px.defaults.height = 800, 600\n",
    "import plotly.io as pio\n",
    "pio.renderers.default='notebook'"
   ]
  },
  {
   "cell_type": "code",
   "execution_count": null,
   "metadata": {},
   "outputs": [],
   "source": []
  },
  {
   "cell_type": "code",
   "execution_count": null,
   "metadata": {},
   "outputs": [],
   "source": [
    "# Set probability value\n",
    "c = 0.01\n",
    "# Compute VaR factor\n",
    "factor = norm.ppf(1 - c)\n",
    "# import the data\n",
    "df = pd.read_csv('Data_SP500.csv', index_col='Date')\n",
    "# Compute the daily returns\n",
    "df['Log Daily Return'] = np.log1p(df.pct_change(1))\n",
    "# Compute the 10 day return\n",
    "df['Log 10D Return'] = np.log1p(df['SP500'].pct_change(10))\n",
    "\n",
    "# Compute rolling 21 day standard deviation for 1D and 10D\n",
    "df['21D Rolling 1D SD'] = df['Log Daily Return'].rolling(21).std()\n",
    "df['21D Rolling 10D SD'] = df['21D Rolling 1D SD'] * np.sqrt(10)\n",
    "\n",
    "# Compute VaR for each row\n",
    "df['VaR (Return)'] = -factor * df['21D Rolling 10D SD']\n",
    "# Compute the breaches, 1 for yeas and 0 for no\n",
    "df['Breach'] = df.apply(lambda row: 1 if (row['Log 10D Return'] < row['VaR (Return)']) else 0, axis=1)\n",
    "# Drop rows that have NaN values\n",
    "df.dropna(inplace=True)\n",
    "# Compute consecutive breaches\n",
    "df['Consecutive breach'] = df['Breach'] + df['Breach'].shift(1)\n",
    "df['Consecutive breach'] = df['Consecutive breach'].apply(lambda row: 1 if (row > 1) else 0)\n",
    "\n",
    "df.head()"
   ]
  },
  {
   "cell_type": "code",
   "execution_count": null,
   "metadata": {},
   "outputs": [],
   "source": [
    "# Count the number and % of breaches\n",
    "breaches = df['Breach'].sum()\n",
    "percent_breaches = breaches / df['Breach'].count()\n",
    "consecutive_breaches = df['Consecutive breach'].sum()\n",
    "percent_consecutive_breaches = consecutive_breaches / df['Consecutive breach'].count()\n",
    "\n",
    "print('Number of breaches: ', breaches)\n",
    "print('% of breaches: ', f'{round(percent_breaches*100,3)}%')\n",
    "print('Number of consecutive breaches: ', consecutive_breaches)\n",
    "print('% of consecutive breaches: ', f'{round(percent_consecutive_breaches*100,3)}%')"
   ]
  },
  {
   "cell_type": "code",
   "execution_count": null,
   "metadata": {},
   "outputs": [],
   "source": [
    "# Plot the results\n",
    "fig = px.line(df['VaR (Return)'], y='VaR (Return)', x=df.index, title='Backtesting Value at Risk')\n",
    "fig.update_traces(line_color='blue', opacity=0.5)\n",
    "fig.add_bar(y=df['Log 10D Return'], x=df.index, name='10D Lognormal Return', marker_color='red', opacity=1)\n",
    "fig.add_scatter(x=df[df['Breach'] > 0].index, y=df[df['Breach'] > 0]['Log 10D Return'], name='Breach', mode='markers', opacity=1)\n",
    "fig.show()"
   ]
  }
 ],
 "metadata": {
  "kernelspec": {
   "display_name": "exam_1-4V1DarRb",
   "language": "python",
   "name": "python3"
  },
  "language_info": {
   "name": "python",
   "version": "3.10.6"
  },
  "orig_nbformat": 4,
  "vscode": {
   "interpreter": {
    "hash": "c9fc2fce8b102d408eb5745704d24ab69e59282980ed507248473b6ba19f1f5d"
   }
  }
 },
 "nbformat": 4,
 "nbformat_minor": 2
}
