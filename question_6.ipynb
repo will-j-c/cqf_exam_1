{
 "cells": [
  {
   "attachments": {},
   "cell_type": "markdown",
   "metadata": {},
   "source": [
    "### Optimal Portfolio Allocation\n",
    "\n",
    "**Question 6.** Re-implement backtesting using assumptions above (as necessary) and the EWMA variance forecast equation below. This is also known as RiskMetrics approach. \n",
    "\n",
    "The tutor will not reconfirm how to compute this model, but you can use the variance of your computed log-returns for the entire dataset to initialise the scheme. \n",
    "\n",
    "$$\n",
    "\\sigma_{t+1 | t} = \\lambda \\sigma_{t | t−1} + (1 − \\lambda) r^2_t \n",
    "$$\n",
    "\n",
    "with $\\lambda = 0.72$ value set to minimise out of sample forecasting error, and $r_t$ refers to a return. \n",
    "\n",
    "Provide the same deliverables (a), (b), and (c) as in the previous Question."
   ]
  }
 ],
 "metadata": {
  "kernelspec": {
   "display_name": "exam_1-4V1DarRb",
   "language": "python",
   "name": "python3"
  },
  "language_info": {
   "name": "python",
   "version": "3.10.6"
  },
  "orig_nbformat": 4,
  "vscode": {
   "interpreter": {
    "hash": "c9fc2fce8b102d408eb5745704d24ab69e59282980ed507248473b6ba19f1f5d"
   }
  }
 },
 "nbformat": 4,
 "nbformat_minor": 2
}
