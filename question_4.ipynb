{
 "cells": [
  {
   "attachments": {},
   "cell_type": "markdown",
   "metadata": {},
   "source": [
    "### Products and Market Risk\n",
    "\n",
    "**Question 4.** Use the ready formula for Expected Shortfall in order to compute the standardised value of Expected Shortfall for $N (0, 1)$. \n",
    "\n",
    "- Compute for the following range of percentiles $[99.95; 99.75; 99.5; 99.25; 99; 98.5; 98; 97.5]$ Provide a table.\n",
    "- The formula to use, and $1 − c$ refers to $1 − 99.95$ and so on, \n",
    "\n",
    "$$\n",
    "ES_c(X) = \\mu − \\sigma \\frac{\\phi (\\Phi^{-1}(1 - c))}{1−c}\n",
    "$$\n",
    "\n",
    "Hint: For the derivation and explanation of the formula please refer to VaR and ES lecture solutions."
   ]
  },
  {
   "attachments": {},
   "cell_type": "markdown",
   "metadata": {},
   "source": [
    "### Answers and code"
   ]
  },
  {
   "cell_type": "code",
   "execution_count": 1,
   "metadata": {},
   "outputs": [],
   "source": [
    "# Import modules\n",
    "from scipy.stats import norm\n",
    "import pandas as pd"
   ]
  },
  {
   "cell_type": "code",
   "execution_count": 2,
   "metadata": {},
   "outputs": [],
   "source": [
    "# Set the percentiles, mu and sd\n",
    "percentiles = [0.9995, 0.9975, 0.995, 0.9925, 0.99, 0.985, 0.98, 0.975]\n",
    "mu = 0\n",
    "sd = 1"
   ]
  },
  {
   "cell_type": "code",
   "execution_count": 3,
   "metadata": {},
   "outputs": [],
   "source": [
    "# Define a function to compute the expected shortfall\n",
    "\n",
    "def expected_shortfall(mu, sd, percentile):\n",
    "    # SciPy ppf function is Percent point function (inverse of cdf — percentiles).\n",
    "    big_phi_inverse = norm.ppf(1-percentile)\n",
    "    # Take the pdf of big phi inverse\n",
    "    phi = norm.pdf(big_phi_inverse)\n",
    "    return mu - (sd * (phi/(1-percentile)))\n"
   ]
  },
  {
   "cell_type": "code",
   "execution_count": 4,
   "metadata": {},
   "outputs": [
    {
     "data": {
      "text/html": [
       "<div>\n",
       "<style scoped>\n",
       "    .dataframe tbody tr th:only-of-type {\n",
       "        vertical-align: middle;\n",
       "    }\n",
       "\n",
       "    .dataframe tbody tr th {\n",
       "        vertical-align: top;\n",
       "    }\n",
       "\n",
       "    .dataframe thead th {\n",
       "        text-align: right;\n",
       "    }\n",
       "</style>\n",
       "<table border=\"1\" class=\"dataframe\">\n",
       "  <thead>\n",
       "    <tr style=\"text-align: right;\">\n",
       "      <th></th>\n",
       "      <th>Percentile</th>\n",
       "      <th>Expected shortfall</th>\n",
       "    </tr>\n",
       "  </thead>\n",
       "  <tbody>\n",
       "    <tr>\n",
       "      <th>0</th>\n",
       "      <td>0.9995</td>\n",
       "      <td>-3.554381</td>\n",
       "    </tr>\n",
       "    <tr>\n",
       "      <th>1</th>\n",
       "      <td>0.9975</td>\n",
       "      <td>-3.104357</td>\n",
       "    </tr>\n",
       "    <tr>\n",
       "      <th>2</th>\n",
       "      <td>0.9950</td>\n",
       "      <td>-2.891949</td>\n",
       "    </tr>\n",
       "    <tr>\n",
       "      <th>3</th>\n",
       "      <td>0.9925</td>\n",
       "      <td>-2.761240</td>\n",
       "    </tr>\n",
       "    <tr>\n",
       "      <th>4</th>\n",
       "      <td>0.9900</td>\n",
       "      <td>-2.665214</td>\n",
       "    </tr>\n",
       "    <tr>\n",
       "      <th>5</th>\n",
       "      <td>0.9850</td>\n",
       "      <td>-2.524695</td>\n",
       "    </tr>\n",
       "    <tr>\n",
       "      <th>6</th>\n",
       "      <td>0.9800</td>\n",
       "      <td>-2.420907</td>\n",
       "    </tr>\n",
       "    <tr>\n",
       "      <th>7</th>\n",
       "      <td>0.9750</td>\n",
       "      <td>-2.337803</td>\n",
       "    </tr>\n",
       "  </tbody>\n",
       "</table>\n",
       "</div>"
      ],
      "text/plain": [
       "   Percentile  Expected shortfall\n",
       "0      0.9995           -3.554381\n",
       "1      0.9975           -3.104357\n",
       "2      0.9950           -2.891949\n",
       "3      0.9925           -2.761240\n",
       "4      0.9900           -2.665214\n",
       "5      0.9850           -2.524695\n",
       "6      0.9800           -2.420907\n",
       "7      0.9750           -2.337803"
      ]
     },
     "execution_count": 4,
     "metadata": {},
     "output_type": "execute_result"
    }
   ],
   "source": [
    "# Compute the ES for each percentile\n",
    "es_arr = []\n",
    "\n",
    "for percentile in percentiles:\n",
    "    es = expected_shortfall(mu, sd, percentile)\n",
    "    es_arr.append([percentile, es])\n",
    "\n",
    "df = pd.DataFrame(es_arr, columns=['Percentile', 'Expected shortfall'])\n",
    "\n",
    "df"
   ]
  }
 ],
 "metadata": {
  "kernelspec": {
   "display_name": "exam_1-4V1DarRb",
   "language": "python",
   "name": "python3"
  },
  "language_info": {
   "codemirror_mode": {
    "name": "ipython",
    "version": 3
   },
   "file_extension": ".py",
   "mimetype": "text/x-python",
   "name": "python",
   "nbconvert_exporter": "python",
   "pygments_lexer": "ipython3",
   "version": "3.10.6"
  },
  "orig_nbformat": 4,
  "vscode": {
   "interpreter": {
    "hash": "c9fc2fce8b102d408eb5745704d24ab69e59282980ed507248473b6ba19f1f5d"
   }
  }
 },
 "nbformat": 4,
 "nbformat_minor": 2
}
