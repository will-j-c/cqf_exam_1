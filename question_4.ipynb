{
 "cells": [
  {
   "attachments": {},
   "cell_type": "markdown",
   "metadata": {},
   "source": [
    "### Optimal Portfolio Allocation\n",
    "\n",
    "**Question 4.** Use the ready formula for Expected Shortfall in order to compute the standardised value of Expected Shortfall for $N (0, 1)$. \n",
    "\n",
    "- Compute for the following range of percentiles $[99.95; 99.75; 99.5; 99.25; 99; 98.5; 98; 97.5]$ Provide a table.\n",
    "- The formula to use, and $1 − c$ refers to $1 − 99.95$ and so on, \n",
    "\n",
    "$$\n",
    "ES_c(X) = \\mu − \\sigma \\frac{\\phi (\\Phi^{-1}(1 - c))}{1−c}\n",
    "$$\n",
    "\n",
    "Hint: For the derivation and explanation of the formula please refer to VaR and ES lecture solutions."
   ]
  }
 ],
 "metadata": {
  "kernelspec": {
   "display_name": "exam_1-4V1DarRb",
   "language": "python",
   "name": "python3"
  },
  "language_info": {
   "name": "python",
   "version": "3.10.6"
  },
  "orig_nbformat": 4,
  "vscode": {
   "interpreter": {
    "hash": "c9fc2fce8b102d408eb5745704d24ab69e59282980ed507248473b6ba19f1f5d"
   }
  }
 },
 "nbformat": 4,
 "nbformat_minor": 2
}
