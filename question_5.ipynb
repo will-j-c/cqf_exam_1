{
 "cells": [
  {
   "attachments": {},
   "cell_type": "markdown",
   "metadata": {},
   "source": [
    "### Optimal Portfolio Allocation\n",
    "\n",
    "**Question 5.** For this questions, use S&P500 index data provided in order to implement backtesting for $99%/10day$ Value at Risk and report the following: \n",
    "\n",
    "(a) The count and percentage of VaR breaches. \n",
    "\n",
    "(b) The count and percentage of consecutive VaR breaches. Example: 1, 1, 1 indicates two consecutive occurrences. \n",
    "\n",
    "(c) Provide a plot which identifies the breaches. \n",
    "\n",
    "$$\n",
    "VaR_{10D,t} = Factor × \\sigma_t × \\sqrt{10} \n",
    "$$\n",
    "\n",
    "- Compute the rolling standard deviation $\\sigma_t$ from 21 daily returns.\n",
    "- Timescale of the standard deviation is ‘daily’ regardless of how many returns are in the sample. We project from 1-day to 10-day using the additivity of variance $\\sigma_{10D} = \\sqrt{\\sigma_t × 10}$.\n",
    "- VaR is fixed at time t and compared to the return realised from $t$ to $t + 10$. A breach occurs when that forward realised 10-day return $ln(\\frac{S_{t+10}}{S_t})$ is below the $VaR_t$ quantity. \n",
    "\n",
    "$r_{10D,t+10} < VaR_{10D,t} \\quad $ means breach, given both numbers are negative."
   ]
  }
 ],
 "metadata": {
  "kernelspec": {
   "display_name": "exam_1-4V1DarRb",
   "language": "python",
   "name": "python3"
  },
  "language_info": {
   "name": "python",
   "version": "3.10.6"
  },
  "orig_nbformat": 4,
  "vscode": {
   "interpreter": {
    "hash": "c9fc2fce8b102d408eb5745704d24ab69e59282980ed507248473b6ba19f1f5d"
   }
  }
 },
 "nbformat": 4,
 "nbformat_minor": 2
}
